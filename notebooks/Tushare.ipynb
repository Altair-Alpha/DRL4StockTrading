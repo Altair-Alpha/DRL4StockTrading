{
 "cells": [
  {
   "cell_type": "markdown",
   "metadata": {
    "collapsed": true,
    "pycharm": {
     "name": "#%% md\n"
    }
   },
   "source": [
    "## 导入tushare"
   ]
  },
  {
   "cell_type": "code",
   "execution_count": 65,
   "outputs": [
    {
     "name": "stdout",
     "output_type": "stream",
     "text": [
      "1.2.77\n"
     ]
    }
   ],
   "source": [
    "import pandas as pd\n",
    "import tushare as ts\n",
    "print(ts.__version__)"
   ],
   "metadata": {
    "collapsed": false,
    "pycharm": {
     "name": "#%%\n"
    }
   }
  },
  {
   "cell_type": "markdown",
   "source": [
    "## 设置token"
   ],
   "metadata": {
    "collapsed": false
   }
  },
  {
   "cell_type": "code",
   "execution_count": 5,
   "outputs": [],
   "source": [
    "ts.set_token('208f20a157fe345489034c653e6b5d3c85848600178dfab4d908e20a')"
   ],
   "metadata": {
    "collapsed": false,
    "pycharm": {
     "name": "#%%\n"
    }
   }
  },
  {
   "cell_type": "markdown",
   "source": [
    "## 初始化pro接口"
   ],
   "metadata": {
    "collapsed": false
   }
  },
  {
   "cell_type": "code",
   "execution_count": 6,
   "outputs": [],
   "source": [
    "pro = ts.pro_api()"
   ],
   "metadata": {
    "collapsed": false,
    "pycharm": {
     "name": "#%%\n"
    }
   }
  },
  {
   "cell_type": "markdown",
   "source": [
    "## 上证50成份股股票代码\n",
    "由于tushare查看指数成分和权重的api积分要求较高，直接在东方财富网上（ https://data.eastmoney.com/other/index/sz50.html ）获取上证50成份股的代码"
   ],
   "metadata": {
    "collapsed": false,
    "pycharm": {
     "name": "#%% md\n"
    }
   }
  },
  {
   "cell_type": "code",
   "execution_count": 7,
   "outputs": [
    {
     "name": "stdout",
     "output_type": "stream",
     "text": [
      "51\n"
     ]
    }
   ],
   "source": [
    "sz50_codes = ['600000', '600028', '600030', '600031', '600036', '600048', '600050', '600104', '600196', '600276', '600309', '600436',\n",
    "              '600438', '600519', '600547', '600570', '600585', '600588', '600690', '600745', '600809', '600837', '600887', '600893',\n",
    "              '600900', '601012', '601066', '601088', '601138', '601166', '601211', '601288', '601318', '601336', '601398', '601601',\n",
    "              '601628', '601633', '601668', '601688', '601728', '601857', '601888', '601899', '601919', '601995', '603259', '603288',\n",
    "              '603501', '603986']\n",
    "print(len(sz50_codes))"
   ],
   "metadata": {
    "collapsed": false,
    "pycharm": {
     "name": "#%%\n"
    }
   }
  },
  {
   "cell_type": "markdown",
   "source": [
    "## 查看上证50成份股信息\n",
    "获取股票的Tushare代码（ts_code）以及股票名称、行业、上市日期等信息，保存到csv文件"
   ],
   "metadata": {
    "collapsed": false
   }
  },
  {
   "cell_type": "code",
   "execution_count": 70,
   "outputs": [
    {
     "name": "stdout",
     "output_type": "stream",
     "text": [
      "50\n",
      "      ts_code  symbol  name area industry list_date\n",
      "0   600000.SH  600000  浦发银行   上海       银行  19991110\n",
      "1   600028.SH  600028  中国石化   北京     石油加工  20010808\n",
      "2   600030.SH  600030  中信证券   深圳       证券  20030106\n",
      "3   600031.SH  600031  三一重工   北京     工程机械  20030703\n",
      "4   600036.SH  600036  招商银行   深圳       银行  20020409\n",
      "5   600048.SH  600048  保利发展   广东     全国地产  20060731\n",
      "6   600050.SH  600050  中国联通   北京     电信运营  20021009\n",
      "7   600104.SH  600104  上汽集团   上海     汽车整车  19971125\n",
      "8   600196.SH  600196  复星医药   上海     化学制药  19980807\n",
      "9   600276.SH  600276  恒瑞医药   江苏     化学制药  20001018\n",
      "10  600309.SH  600309  万华化学   山东     化工原料  20010105\n",
      "11  600436.SH  600436   片仔癀   福建      中成药  20030616\n",
      "12  600438.SH  600438  通威股份   四川     电气设备  20040302\n",
      "13  600519.SH  600519  贵州茅台   贵州       白酒  20010827\n",
      "14  600547.SH  600547  山东黄金   山东       黄金  20030828\n",
      "15  600570.SH  600570  恒生电子   浙江     软件服务  20031216\n",
      "16  600585.SH  600585  海螺水泥   安徽       水泥  20020207\n",
      "17  600588.SH  600588  用友网络   北京     软件服务  20010518\n",
      "18  600690.SH  600690  海尔智家   山东     家用电器  19931119\n",
      "19  600745.SH  600745  闻泰科技   湖北     通信设备  19960828\n",
      "20  600809.SH  600809  山西汾酒   山西       白酒  19940106\n",
      "21  600837.SH  600837  海通证券   上海       证券  19940224\n",
      "22  600887.SH  600887  伊利股份   内蒙      乳制品  19960312\n",
      "23  600893.SH  600893  航发动力   陕西       航空  19960408\n",
      "24  600900.SH  600900  长江电力   北京     水力发电  20031118\n",
      "25  601012.SH  601012  隆基股份   陕西     电气设备  20120411\n",
      "26  601066.SH  601066  中信建投   北京       证券  20180620\n",
      "27  601088.SH  601088  中国神华   北京     煤炭开采  20071009\n",
      "28  601138.SH  601138  工业富联   深圳     通信设备  20180608\n",
      "29  601166.SH  601166  兴业银行   福建       银行  20070205\n",
      "30  601211.SH  601211  国泰君安   上海       证券  20150626\n",
      "31  601288.SH  601288  农业银行   北京       银行  20100715\n",
      "32  601318.SH  601318  中国平安   深圳       保险  20070301\n",
      "33  601336.SH  601336  新华保险   北京       保险  20111216\n",
      "34  601398.SH  601398  工商银行   北京       银行  20061027\n",
      "35  601601.SH  601601  中国太保   上海       保险  20071225\n",
      "36  601628.SH  601628  中国人寿   北京       保险  20070109\n",
      "37  601633.SH  601633  长城汽车   河北     汽车整车  20110928\n",
      "38  601668.SH  601668  中国建筑   北京     建筑工程  20090729\n",
      "39  601688.SH  601688  华泰证券   江苏       证券  20100226\n",
      "40  601728.SH  601728  中国电信   北京     电信运营  20210820\n",
      "41  601857.SH  601857  中国石油   北京     石油开采  20071105\n",
      "42  601888.SH  601888  中国中免   北京     旅游服务  20091015\n",
      "43  601899.SH  601899  紫金矿业   福建       黄金  20080425\n",
      "44  601919.SH  601919  中远海控   天津       水运  20070626\n",
      "45  601995.SH  601995  中金公司   北京       证券  20201102\n",
      "46  603259.SH  603259  药明康德   江苏     化学制药  20180508\n",
      "47  603288.SH  603288  海天味业   广东       食品  20140211\n",
      "48  603501.SH  603501  韦尔股份   上海      半导体  20170504\n",
      "49  603986.SH  603986  兆易创新   北京      半导体  20160818\n"
     ]
    }
   ],
   "source": [
    "all_stocks_info = pro.stock_basic(exchange='', list_status='L', fields='ts_code,symbol,name,area,industry,list_date')\n",
    "sz50_info = all_stocks_info[all_stocks_info['symbol'].isin(sz50_codes)].reset_index(drop=True)\n",
    "print(len(sz50_info))\n",
    "print(sz50_info)\n",
    "sz50_info.to_csv('../data/上证50股票信息.csv')"
   ],
   "metadata": {
    "collapsed": false,
    "pycharm": {
     "name": "#%%\n"
    }
   }
  },
  {
   "cell_type": "markdown",
   "source": [
    "## 获取上证50成份股历史数据\n",
    "提取股票信息的ts_code列，转成api要求的逗号分隔字符串，然后通过daily接口查询，返回结果按股票编号排序。"
   ],
   "metadata": {
    "collapsed": false
   }
  },
  {
   "cell_type": "code",
   "execution_count": 39,
   "outputs": [
    {
     "name": "stdout",
     "output_type": "stream",
     "text": [
      "50\n"
     ]
    }
   ],
   "source": [
    "query_codes = sz50_info['ts_code'].tolist()\n",
    "query_codes = ','.join(query_codes)\n",
    "print(query_codes.count(','))\n",
    "print(query_codes)\n",
    "sz50_prices = pro.daily(ts_code=query_codes, start_date='20090101', end_date='20211131')\n",
    "sz50_prices = sz50_prices.sort_values(by=['ts_code', 'trade_date']).reset_index(drop=True)\n",
    "\n",
    "# pd.set_option('display.max_rows', None)\n",
    "print(sz50_prices.shape)"
   ],
   "metadata": {
    "collapsed": false,
    "pycharm": {
     "name": "#%%\n"
    }
   }
  },
  {
   "cell_type": "markdown",
   "source": [
    "## 选取上证50中上市期限较长的股票作为交易股\n",
    "通过"
   ],
   "metadata": {
    "collapsed": false
   }
  },
  {
   "cell_type": "code",
   "execution_count": 37,
   "outputs": [
    {
     "name": "stdout",
     "output_type": "stream",
     "text": [
      "ts_code    ts_code  \n",
      "600000.SH  600000.SH    8\n",
      "600028.SH  600028.SH    8\n",
      "600030.SH  600030.SH    8\n",
      "600031.SH  600031.SH    8\n",
      "600036.SH  600036.SH    8\n",
      "600048.SH  600048.SH    8\n",
      "600050.SH  600050.SH    8\n",
      "600104.SH  600104.SH    8\n",
      "600196.SH  600196.SH    8\n",
      "600276.SH  600276.SH    8\n",
      "600309.SH  600309.SH    8\n",
      "600436.SH  600436.SH    8\n",
      "600438.SH  600438.SH    8\n",
      "600519.SH  600519.SH    8\n",
      "600547.SH  600547.SH    8\n",
      "600570.SH  600570.SH    8\n",
      "600585.SH  600585.SH    8\n",
      "600588.SH  600588.SH    8\n",
      "600690.SH  600690.SH    8\n",
      "600745.SH  600745.SH    8\n",
      "600809.SH  600809.SH    8\n",
      "600837.SH  600837.SH    8\n",
      "600887.SH  600887.SH    8\n",
      "600893.SH  600893.SH    8\n",
      "601012.SH  601012.SH    8\n",
      "601066.SH  601066.SH    8\n",
      "601088.SH  601088.SH    8\n",
      "601138.SH  601138.SH    8\n",
      "601166.SH  601166.SH    8\n",
      "601211.SH  601211.SH    8\n",
      "601288.SH  601288.SH    8\n",
      "601318.SH  601318.SH    8\n",
      "601336.SH  601336.SH    8\n",
      "601398.SH  601398.SH    8\n",
      "601601.SH  601601.SH    8\n",
      "601628.SH  601628.SH    8\n",
      "601633.SH  601633.SH    8\n",
      "601668.SH  601668.SH    8\n",
      "601688.SH  601688.SH    8\n",
      "601728.SH  601728.SH    8\n",
      "601857.SH  601857.SH    8\n",
      "601888.SH  601888.SH    8\n",
      "601899.SH  601899.SH    8\n",
      "601919.SH  601919.SH    8\n",
      "601995.SH  601995.SH    8\n",
      "603259.SH  603259.SH    8\n",
      "603288.SH  603288.SH    8\n",
      "603501.SH  603501.SH    8\n",
      "603986.SH  603986.SH    8\n",
      "Name: ts_code, dtype: int64\n",
      "49\n"
     ]
    }
   ],
   "source": [
    "print(sz50_prices['ts_code'].value_counts())\n",
    "print(len(sz50_prices['ts_code'].value_counts()))"
   ],
   "metadata": {
    "collapsed": false,
    "pycharm": {
     "name": "#%%\n"
    }
   }
  },
  {
   "cell_type": "markdown",
   "source": [],
   "metadata": {
    "collapsed": false
   }
  },
  {
   "cell_type": "code",
   "execution_count": 69,
   "outputs": [
    {
     "name": "stdout",
     "output_type": "stream",
     "text": [
      "       Unnamed: 0  datadate  tic   prccd  ajexdi   prcod   prchd    prcld  \\\n",
      "0               0  20090102  AXP   19.33     1.0   18.57   19.52   18.400   \n",
      "1               1  20090105  AXP   19.95     1.0   19.20   20.24   19.000   \n",
      "2               2  20090106  AXP   21.07     1.0   20.30   21.38   20.010   \n",
      "3               3  20090107  AXP   20.01     1.0   20.53   20.72   19.830   \n",
      "4               4  20090108  AXP   20.04     1.0   19.80   20.17   19.400   \n",
      "...           ...       ...  ...     ...     ...     ...     ...      ...   \n",
      "87775      108896  20200811    V  197.77     1.0  197.82  202.89  196.335   \n",
      "87776      108897  20200812    V  198.74     1.0  199.00  200.23  198.240   \n",
      "87777      108898  20200813    V  197.58     1.0  197.13  199.94  197.030   \n",
      "87778      108899  20200814    V  196.64     1.0  197.01  198.07  195.770   \n",
      "87779      108900  20200817    V  199.43     1.0  197.30  200.46  196.710   \n",
      "\n",
      "           cshtrd  \n",
      "0      10955620.0  \n",
      "1      16019130.0  \n",
      "2      13819380.0  \n",
      "3      15699820.0  \n",
      "4      12255070.0  \n",
      "...           ...  \n",
      "87775  11547450.0  \n",
      "87776   5432344.0  \n",
      "87777   6970576.0  \n",
      "87778   5012497.0  \n",
      "87779   6254162.0  \n",
      "\n",
      "[87780 rows x 9 columns]\n",
      "XOM     2926\n",
      "NKE     2926\n",
      "UNH     2926\n",
      "INTC    2926\n",
      "AAPL    2926\n",
      "TRV     2926\n",
      "PG      2926\n",
      "DD      2926\n",
      "KO      2926\n",
      "CAT     2926\n",
      "RTX     2926\n",
      "HD      2926\n",
      "DIS     2926\n",
      "JNJ     2926\n",
      "V       2926\n",
      "MSFT    2926\n",
      "CSCO    2926\n",
      "PFE     2926\n",
      "JPM     2926\n",
      "BA      2926\n",
      "MCD     2926\n",
      "MMM     2926\n",
      "MRK     2926\n",
      "CVX     2926\n",
      "IBM     2926\n",
      "WBA     2926\n",
      "GS      2926\n",
      "AXP     2926\n",
      "VZ      2926\n",
      "WMT     2926\n",
      "Name: tic, dtype: int64\n",
      "['AAPL', 'AXP', 'BA', 'CAT', 'CSCO', 'CVX', 'DD', 'DIS', 'GS', 'HD', 'IBM', 'INTC', 'JNJ', 'JPM', 'KO', 'MCD', 'MMM', 'MRK', 'MSFT', 'NKE', 'PFE', 'PG', 'RTX', 'TRV', 'UNH', 'V', 'VZ', 'WBA', 'WMT', 'XOM']\n"
     ]
    }
   ],
   "source": [
    "# s1 = set(sz50_prices['ts_code'].value_counts().index.tolist())\n",
    "# s2 = set(sz50_info['ts_code'].tolist())\n",
    "# print(pro.daily(ts_code='600900.SH', start_date='20201201', end_date='20211212'))\n",
    "dji = pd.read_csv('D:\\Dev\\!Workspace\\Python\\Deep-Reinforcement-Learning-for-Automated-Stock-Trading-Ensemble-Strategy-ICAIF-2020\\data\\dow_30_2009_2020.csv')\n",
    "print(dji)\n",
    "print(dji['tic'].value_counts())\n",
    "print(sorted(dji['tic'].value_counts().index.tolist()))"
   ],
   "metadata": {
    "collapsed": false,
    "pycharm": {
     "name": "#%%\n"
    }
   }
  },
  {
   "cell_type": "code",
   "execution_count": 75,
   "outputs": [
    {
     "name": "stdout",
     "output_type": "stream",
     "text": [
      "      ts_code  symbol  name area industry list_date\n",
      "0   600000.SH  600000  浦发银行   上海       银行  19991110\n",
      "1   600028.SH  600028  中国石化   北京     石油加工  20010808\n",
      "2   600030.SH  600030  中信证券   深圳       证券  20030106\n",
      "3   600031.SH  600031  三一重工   北京     工程机械  20030703\n",
      "4   600036.SH  600036  招商银行   深圳       银行  20020409\n",
      "5   600048.SH  600048  保利发展   广东     全国地产  20060731\n",
      "6   600050.SH  600050  中国联通   北京     电信运营  20021009\n",
      "7   600104.SH  600104  上汽集团   上海     汽车整车  19971125\n",
      "8   600196.SH  600196  复星医药   上海     化学制药  19980807\n",
      "9   600276.SH  600276  恒瑞医药   江苏     化学制药  20001018\n",
      "10  600309.SH  600309  万华化学   山东     化工原料  20010105\n",
      "11  600436.SH  600436   片仔癀   福建      中成药  20030616\n",
      "12  600438.SH  600438  通威股份   四川     电气设备  20040302\n",
      "13  600519.SH  600519  贵州茅台   贵州       白酒  20010827\n",
      "14  600547.SH  600547  山东黄金   山东       黄金  20030828\n",
      "15  600570.SH  600570  恒生电子   浙江     软件服务  20031216\n",
      "16  600585.SH  600585  海螺水泥   安徽       水泥  20020207\n",
      "17  600588.SH  600588  用友网络   北京     软件服务  20010518\n",
      "18  600690.SH  600690  海尔智家   山东     家用电器  19931119\n",
      "19  600745.SH  600745  闻泰科技   湖北     通信设备  19960828\n",
      "20  600809.SH  600809  山西汾酒   山西       白酒  19940106\n",
      "21  600837.SH  600837  海通证券   上海       证券  19940224\n",
      "22  600887.SH  600887  伊利股份   内蒙      乳制品  19960312\n",
      "23  600893.SH  600893  航发动力   陕西       航空  19960408\n",
      "24  600900.SH  600900  长江电力   北京     水力发电  20031118\n",
      "27  601088.SH  601088  中国神华   北京     煤炭开采  20071009\n",
      "29  601166.SH  601166  兴业银行   福建       银行  20070205\n",
      "32  601318.SH  601318  中国平安   深圳       保险  20070301\n",
      "34  601398.SH  601398  工商银行   北京       银行  20061027\n",
      "35  601601.SH  601601  中国太保   上海       保险  20071225\n",
      "36  601628.SH  601628  中国人寿   北京       保险  20070109\n",
      "41  601857.SH  601857  中国石油   北京     石油开采  20071105\n",
      "43  601899.SH  601899  紫金矿业   福建       黄金  20080425\n",
      "44  601919.SH  601919  中远海控   天津       水运  20070626\n"
     ]
    }
   ],
   "source": [
    "print(sz50_info[sz50_info['list_date'] < '20090101'])"
   ],
   "metadata": {
    "collapsed": false,
    "pycharm": {
     "name": "#%%\n"
    }
   }
  }
 ],
 "metadata": {
  "kernelspec": {
   "name": "pycharm-a0d02ec8",
   "language": "python",
   "display_name": "PyCharm (DRL4StockTrading)"
  },
  "language_info": {
   "codemirror_mode": {
    "name": "ipython",
    "version": 2
   },
   "file_extension": ".py",
   "mimetype": "text/x-python",
   "name": "python",
   "nbconvert_exporter": "python",
   "pygments_lexer": "ipython2",
   "version": "2.7.6"
  }
 },
 "nbformat": 4,
 "nbformat_minor": 0
}