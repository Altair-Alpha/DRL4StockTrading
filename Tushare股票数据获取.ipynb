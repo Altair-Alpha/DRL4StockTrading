{
 "cells": [
  {
   "cell_type": "markdown",
   "metadata": {
    "collapsed": true,
    "pycharm": {
     "name": "#%% md\n"
    }
   },
   "source": [
    "## 导入tushare"
   ]
  },
  {
   "cell_type": "code",
   "execution_count": 1,
   "outputs": [
    {
     "data": {
      "text/plain": "'1.2.78'"
     },
     "execution_count": 1,
     "metadata": {},
     "output_type": "execute_result"
    }
   ],
   "source": [
    "import pandas as pd\n",
    "import tushare as ts\n",
    "ts.__version__"
   ],
   "metadata": {
    "collapsed": false,
    "pycharm": {
     "name": "#%%\n"
    }
   }
  },
  {
   "cell_type": "markdown",
   "source": [
    "## 设置token"
   ],
   "metadata": {
    "collapsed": false
   }
  },
  {
   "cell_type": "code",
   "execution_count": 2,
   "outputs": [],
   "source": [
    "ts.set_token('1f2f092156dfe775a88e478f3a54565e0adab29246c83814e95fa0dd')"
   ],
   "metadata": {
    "collapsed": false,
    "pycharm": {
     "name": "#%%\n"
    }
   }
  },
  {
   "cell_type": "markdown",
   "source": [
    "## 初始化pro接口"
   ],
   "metadata": {
    "collapsed": false
   }
  },
  {
   "cell_type": "code",
   "execution_count": 3,
   "outputs": [],
   "source": [
    "pro = ts.pro_api()"
   ],
   "metadata": {
    "collapsed": false,
    "pycharm": {
     "name": "#%%\n"
    }
   }
  },
  {
   "cell_type": "markdown",
   "source": [
    "## 上证50成份股股票代码\n",
    "直接在东方财富网上（ https://data.eastmoney.com/other/index/sz50.html ）获取最新上证50成份股的代码"
   ],
   "metadata": {
    "collapsed": false,
    "pycharm": {
     "name": "#%% md\n"
    }
   }
  },
  {
   "cell_type": "code",
   "execution_count": 5,
   "outputs": [
    {
     "name": "stdout",
     "output_type": "stream",
     "text": [
      "50\n"
     ]
    }
   ],
   "source": [
    "sz50_codes = ['600000', '600028', '600030', '600031', '600036', '600048', '600050', '600104', '600196', '600276', '600309', '600436',\n",
    "              '600438', '600519', '600547', '600570', '600585', '600588', '600690', '600745', '600809', '600837', '600887', '600893',\n",
    "              '600900', '601012', '601066', '601088', '601138', '601166', '601211', '601288', '601318', '601336', '601398', '601601',\n",
    "              '601628', '601633', '601668', '601688', '601728', '601857', '601888', '601899', '601919', '601995', '603259', '603288',\n",
    "              '603501', '603986']\n",
    "print(len(sz50_codes))"
   ],
   "metadata": {
    "collapsed": false,
    "pycharm": {
     "name": "#%%\n"
    }
   }
  },
  {
   "cell_type": "markdown",
   "source": [
    "## 查看上证50成份股信息\n",
    "获取股票的Tushare代码（ts_code）以及股票名称、行业、上市日期等信息，保存到csv文件"
   ],
   "metadata": {
    "collapsed": false
   }
  },
  {
   "cell_type": "code",
   "execution_count": 6,
   "outputs": [],
   "source": [
    "# all_stocks_info = pro.stock_basic(exchange='', list_status='L', fields='ts_code,symbol,name,area,industry,list_date')\n",
    "# sz50_info = all_stocks_info[all_stocks_info['symbol'].isin(sz50_codes)].reset_index(drop=True)\n",
    "# print(len(sz50_info))\n",
    "# print(sz50_info)\n",
    "# sz50_info.to_csv('../data/上证50股票信息.csv', index=None)\n",
    "sz50_info = pd.read_csv('../data/上证50股票信息.csv')"
   ],
   "metadata": {
    "collapsed": false,
    "pycharm": {
     "name": "#%%\n"
    }
   }
  },
  {
   "cell_type": "markdown",
   "source": [
    "## 获取上证50成份股历史数据\n",
    "提取股票信息的ts_code列，循环通过daily接口查询股票数据并拼接，返回结果按股票编号和交易日期排序。"
   ],
   "metadata": {
    "collapsed": false
   }
  },
  {
   "cell_type": "code",
   "execution_count": 7,
   "outputs": [
    {
     "name": "stdout",
     "output_type": "stream",
     "text": [
      "(124128, 11)\n"
     ]
    }
   ],
   "source": [
    "query_codes = sz50_info['ts_code'].tolist()\n",
    "sz50_prices = []\n",
    "for code in query_codes:\n",
    "    sz50_prices.append(ts.pro_bar(ts_code=code, adj='qfq', start_date='20100101', end_date='20211231'))\n",
    "sz50_prices = pd.concat(sz50_prices, axis=0, ignore_index=True)\n",
    "sz50_prices = sz50_prices.sort_values(by=['ts_code', 'trade_date']).reset_index(drop=True)\n",
    "print(sz50_prices.shape)\n",
    "\n",
    "sz50_prices.to_csv('../data/上证50股票历史股价2010-2021.csv', index=None)"
   ],
   "metadata": {
    "collapsed": false,
    "pycharm": {
     "name": "#%%\n"
    }
   }
  },
  {
   "cell_type": "markdown",
   "source": [
    "## 选取交易股\n",
    "取上证50中上市期限较长且中途没有长时间停牌的前20只股票作为交易股"
   ],
   "metadata": {
    "collapsed": false
   }
  },
  {
   "cell_type": "code",
   "execution_count": 9,
   "outputs": [
    {
     "name": "stdout",
     "output_type": "stream",
     "text": [
      "['601601.SH', '601628.SH', '600028.SH', '601857.SH', '600519.SH', '600276.SH', '600837.SH', '600585.SH', '601398.SH', '600031.SH', '600048.SH', '600809.SH', '601166.SH', '600036.SH', '600436.SH', '600588.SH', '600196.SH', '600030.SH', '601899.SH', '600887.SH']\n",
      "        ts_code  trade_date    open    high     low   close  pre_close  \\\n",
      "2870  600028.SH    20100104  6.0869  6.1041  5.9281  5.9324     6.0483   \n",
      "2871  600028.SH    20100105  5.9410  6.0311  5.8079  5.9667     5.9324   \n",
      "2872  600028.SH    20100106  5.9453  5.9581  5.8251  5.8380     5.9667   \n",
      "2873  600028.SH    20100107  5.8422  5.8723  5.6062  5.6834     5.8380   \n",
      "2874  600028.SH    20100108  5.6190  5.6448  5.4688  5.6233     5.6834   \n",
      "\n",
      "      change  pct_chg         vol       amount  \n",
      "2870 -0.1159  -1.9162   842260.21  1180334.595  \n",
      "2871  0.0343   0.5782  1100179.18  1517311.545  \n",
      "2872 -0.1287  -2.1570  1042644.64  1430293.213  \n",
      "2873 -0.1546  -2.6482  1241500.42  1663420.138  \n",
      "2874 -0.0601  -1.0575  1321802.82  1712045.170  \n",
      "<class 'pandas.core.frame.DataFrame'>\n",
      "Int64Index: 58003 entries, 2870 to 116191\n",
      "Data columns (total 11 columns):\n",
      " #   Column      Non-Null Count  Dtype  \n",
      "---  ------      --------------  -----  \n",
      " 0   ts_code     58003 non-null  object \n",
      " 1   trade_date  58003 non-null  int64  \n",
      " 2   open        58003 non-null  float64\n",
      " 3   high        58003 non-null  float64\n",
      " 4   low         58003 non-null  float64\n",
      " 5   close       58003 non-null  float64\n",
      " 6   pre_close   58003 non-null  float64\n",
      " 7   change      58003 non-null  float64\n",
      " 8   pct_chg     58003 non-null  float64\n",
      " 9   vol         58003 non-null  float64\n",
      " 10  amount      58003 non-null  float64\n",
      "dtypes: float64(9), int64(1), object(1)\n",
      "memory usage: 5.3+ MB\n",
      "None\n"
     ]
    }
   ],
   "source": [
    "sz50_info = pd.read_csv('../data/上证50股票信息.csv')\n",
    "sz50_prices = pd.read_csv('../data/上证50股票历史股价2010-2021.csv')\n",
    "\n",
    "\n",
    "picked_stockcode = sz50_prices['ts_code'].value_counts().index.to_list()\n",
    "picked_stockcode = [x for x in picked_stockcode if sz50_info.loc[sz50_info['ts_code'] == x]['list_date'].values[0] < 20090101]\n",
    "# 上证50中共34只股票于20090101之前上市\n",
    "# print(picked_stockcode.__len__())\n",
    "\n",
    "# 筛掉停牌时间过久的股票\n",
    "# 600745.SH闻泰科技曾于2018.04-2018.12停牌半年\n",
    "# 600547.SH山东黄金曾于2013，2014，2017停牌\n",
    "picked_stockcode = [x for x in picked_stockcode if not (x=='600745.SH' or x=='600547.SH')]\n",
    "\n",
    "# 选取其中上市年限最长的20只\n",
    "picked_stockcode = picked_stockcode[:20]\n",
    "print(picked_stockcode)\n",
    "\n",
    "picked_stocks = sz50_prices[sz50_prices['ts_code'].isin(picked_stockcode)]\n",
    "print(picked_stocks.head())\n",
    "print(picked_stocks.info())"
   ],
   "metadata": {
    "collapsed": false,
    "pycharm": {
     "name": "#%%\n"
    }
   }
  },
  {
   "cell_type": "markdown",
   "source": [
    "## 选取交易日期\n",
    "由于各股票在某些日期没有股价数据，故选择各股票数据的交集作为实际的交易日期"
   ],
   "metadata": {
    "collapsed": false
   }
  },
  {
   "cell_type": "code",
   "execution_count": 26,
   "outputs": [
    {
     "name": "stdout",
     "output_type": "stream",
     "text": [
      "原数据中交易日期最多的股票: 601601.SH\n",
      "交易天数: 2914\n",
      "--------------------------\n",
      "交易股取交集的交易天数: 2622\n",
      "   trade_date\n",
      "0    20100104\n",
      "1    20100105\n",
      "2    20100106\n",
      "3    20100107\n",
      "4    20100112\n",
      "      trade_date\n",
      "2617    20211227\n",
      "2618    20211228\n",
      "2619    20211229\n",
      "2620    20211230\n",
      "2621    20211231\n"
     ]
    }
   ],
   "source": [
    "trade_dates_dict = {}\n",
    "for _, row in picked_stocks.iterrows():\n",
    "    if row['ts_code'] not in trade_dates_dict.keys():\n",
    "        trade_dates_dict[row['ts_code']] = set()\n",
    "    trade_dates_dict[row['ts_code']].add(row['trade_date'])\n",
    "\n",
    "max_tradecount = 0\n",
    "max_tradecode = ''\n",
    "for k, v in trade_dates_dict.items():\n",
    "    tradecount = len(v)\n",
    "    if tradecount > max_tradecount:\n",
    "        max_tradecount = tradecount\n",
    "        max_tradecode = k\n",
    "print('原数据中交易日期最多的股票:', max_tradecode)\n",
    "print('交易天数:', max_tradecount)\n",
    "print('--------------------------')\n",
    "trade_dates = set()\n",
    "for k in trade_dates_dict.keys():\n",
    "    if len(trade_dates) == 0:\n",
    "        trade_dates = trade_dates_dict[k]\n",
    "    else:\n",
    "        trade_dates = trade_dates.intersection(trade_dates_dict[k])\n",
    "print('交易股取交集的交易天数:', len(trade_dates))\n",
    "\n",
    "trade_dates = pd.DataFrame(trade_dates, columns=['trade_date'])\n",
    "trade_dates.sort_values(by='trade_date', inplace=True, ignore_index=True)\n",
    "print(trade_dates.head())\n",
    "print(trade_dates.tail())\n",
    "\n",
    "trade_dates.to_csv('../data/上证50成份股（20只）交易日期2010-2021.csv')"
   ],
   "metadata": {
    "collapsed": false,
    "pycharm": {
     "name": "#%%\n"
    }
   }
  },
  {
   "cell_type": "markdown",
   "source": [
    "## 最终提取的交易数据"
   ],
   "metadata": {
    "collapsed": false
   }
  },
  {
   "cell_type": "code",
   "execution_count": 27,
   "outputs": [
    {
     "name": "stdout",
     "output_type": "stream",
     "text": [
      "<class 'pandas.core.frame.DataFrame'>\n",
      "RangeIndex: 52440 entries, 0 to 52439\n",
      "Data columns (total 11 columns):\n",
      " #   Column      Non-Null Count  Dtype  \n",
      "---  ------      --------------  -----  \n",
      " 0   ts_code     52440 non-null  object \n",
      " 1   trade_date  52440 non-null  int64  \n",
      " 2   open        52440 non-null  float64\n",
      " 3   high        52440 non-null  float64\n",
      " 4   low         52440 non-null  float64\n",
      " 5   close       52440 non-null  float64\n",
      " 6   pre_close   52440 non-null  float64\n",
      " 7   change      52440 non-null  float64\n",
      " 8   pct_chg     52440 non-null  float64\n",
      " 9   vol         52440 non-null  float64\n",
      " 10  amount      52440 non-null  float64\n",
      "dtypes: float64(9), int64(1), object(1)\n",
      "memory usage: 4.4+ MB\n",
      "None\n",
      "     ts_code  trade_date    open    high     low   close  pre_close  change  \\\n",
      "0  600028.SH    20100104  6.0869  6.1041  5.9281  5.9324     6.0483 -0.1159   \n",
      "1  600028.SH    20100105  5.9410  6.0311  5.8079  5.9667     5.9324  0.0343   \n",
      "2  600028.SH    20100106  5.9453  5.9581  5.8251  5.8380     5.9667 -0.1287   \n",
      "3  600028.SH    20100107  5.8422  5.8723  5.6062  5.6834     5.8380 -0.1546   \n",
      "4  600028.SH    20100112  5.5589  5.7736  5.4860  5.7178     5.5933  0.1245   \n",
      "\n",
      "   pct_chg         vol       amount  \n",
      "0  -1.9162   842260.21  1180334.595  \n",
      "1   0.5782  1100179.18  1517311.545  \n",
      "2  -2.1570  1042644.64  1430293.213  \n",
      "3  -2.6482  1241500.42  1663420.138  \n",
      "4   2.2259  1595541.70  2100688.803  \n"
     ]
    }
   ],
   "source": [
    "final_stocks = picked_stocks[picked_stocks['trade_date'].isin(trade_dates['trade_date'])].reset_index(drop=True)\n",
    "# final_stocks['ajexdi'] = [1] * len(final_stocks) # 临时需要，与原项目数据格式兼容\n",
    "\n",
    "print(final_stocks.info())\n",
    "print(final_stocks.head())\n",
    "final_stocks.to_csv('../data/szstock_20_complete.csv')"
   ],
   "metadata": {
    "collapsed": false,
    "pycharm": {
     "name": "#%%\n"
    }
   }
  },
  {
   "cell_type": "markdown",
   "source": [
    "验证处理后数据所有股票交易日期相同"
   ],
   "metadata": {
    "collapsed": false,
    "pycharm": {
     "name": "#%% md\n"
    }
   }
  },
  {
   "cell_type": "code",
   "execution_count": 28,
   "outputs": [
    {
     "name": "stdout",
     "output_type": "stream",
     "text": [
      "20100104    20\n",
      "20100204    20\n",
      "20100119    20\n",
      "20100106    20\n",
      "20100107    20\n",
      "            ..\n",
      "20211227    20\n",
      "20211228    20\n",
      "20211229    20\n",
      "20211108    20\n",
      "20211231    20\n",
      "Name: trade_date, Length: 2622, dtype: int64\n"
     ]
    }
   ],
   "source": [
    "data = pd.read_csv('../data/szstock_20.csv')\n",
    "print(data['trade_date'].value_counts().sort_values())"
   ],
   "metadata": {
    "collapsed": false,
    "pycharm": {
     "name": "#%%\n"
    }
   }
  },
  {
   "cell_type": "markdown",
   "source": [
    "## 获取大盘历史指数\n",
    "后续作为模型表现的baseline"
   ],
   "metadata": {
    "collapsed": false
   }
  },
  {
   "cell_type": "code",
   "execution_count": 30,
   "outputs": [
    {
     "name": "stdout",
     "output_type": "stream",
     "text": [
      "<class 'pandas.core.frame.DataFrame'>\n",
      "RangeIndex: 2917 entries, 0 to 2916\n",
      "Data columns (total 11 columns):\n",
      " #   Column      Non-Null Count  Dtype  \n",
      "---  ------      --------------  -----  \n",
      " 0   ts_code     2917 non-null   object \n",
      " 1   trade_date  2917 non-null   object \n",
      " 2   close       2917 non-null   float64\n",
      " 3   open        2917 non-null   float64\n",
      " 4   high        2917 non-null   float64\n",
      " 5   low         2917 non-null   float64\n",
      " 6   pre_close   2917 non-null   float64\n",
      " 7   change      2917 non-null   float64\n",
      " 8   pct_chg     2917 non-null   float64\n",
      " 9   vol         2917 non-null   float64\n",
      " 10  amount      2917 non-null   float64\n",
      "dtypes: float64(9), object(2)\n",
      "memory usage: 250.8+ KB\n",
      "None\n",
      "     ts_code trade_date      close       open       high        low  \\\n",
      "0  000001.SH   20211231  3639.7754  3626.2420  3642.8430  3624.9419   \n",
      "1  000001.SH   20211230  3619.1886  3596.4921  3628.9177  3595.4957   \n",
      "2  000001.SH   20211229  3597.0002  3630.9159  3630.9159  3596.3225   \n",
      "3  000001.SH   20211228  3630.1115  3619.6419  3631.0766  3607.3643   \n",
      "4  000001.SH   20211227  3615.9741  3613.0469  3632.1880  3601.9351   \n",
      "\n",
      "   pre_close   change  pct_chg          vol       amount  \n",
      "0  3619.1886  20.5868   0.5688  329681932.0  433489803.1  \n",
      "1  3597.0002  22.1884   0.6169  307839291.0  413947692.8  \n",
      "2  3630.1115 -33.1113  -0.9121  305131766.0  410425339.5  \n",
      "3  3615.9741  14.1374   0.3910  316202242.0  408761369.7  \n",
      "4  3618.0535  -2.0794  -0.0575  329235293.0  407482648.4  \n",
      "<class 'pandas.core.frame.DataFrame'>\n",
      "RangeIndex: 2917 entries, 0 to 2916\n",
      "Data columns (total 11 columns):\n",
      " #   Column      Non-Null Count  Dtype  \n",
      "---  ------      --------------  -----  \n",
      " 0   ts_code     2917 non-null   object \n",
      " 1   trade_date  2917 non-null   object \n",
      " 2   close       2917 non-null   float64\n",
      " 3   open        2917 non-null   float64\n",
      " 4   high        2917 non-null   float64\n",
      " 5   low         2917 non-null   float64\n",
      " 6   pre_close   2917 non-null   float64\n",
      " 7   change      2917 non-null   float64\n",
      " 8   pct_chg     2917 non-null   float64\n",
      " 9   vol         2917 non-null   float64\n",
      " 10  amount      2917 non-null   float64\n",
      "dtypes: float64(9), object(2)\n",
      "memory usage: 250.8+ KB\n",
      "None\n",
      "     ts_code trade_date      close       open       high        low  \\\n",
      "0  000016.SH   20211231  3274.3209  3269.6113  3282.6803  3261.8361   \n",
      "1  000016.SH   20211230  3261.7937  3240.2631  3276.9987  3236.1588   \n",
      "2  000016.SH   20211229  3240.8452  3308.2134  3308.2313  3240.8452   \n",
      "3  000016.SH   20211228  3303.4002  3282.5996  3307.7885  3280.2656   \n",
      "4  000016.SH   20211227  3278.4365  3286.1110  3291.9785  3264.0233   \n",
      "\n",
      "   pre_close   change  pct_chg         vol        amount  \n",
      "0  3261.7937  12.5272   0.3841  20549961.0  6.563215e+07  \n",
      "1  3240.8452  20.9485   0.6464  22285032.0  7.005761e+07  \n",
      "2  3303.4002 -62.5550  -1.8937  20098541.0  7.242673e+07  \n",
      "3  3278.4365  24.9637   0.7615  26002262.0  7.178078e+07  \n",
      "4  3290.2357 -11.7992  -0.3586  19675636.0  6.025674e+07  \n"
     ]
    }
   ],
   "source": [
    "# 上证指数\n",
    "sz_code = '000001.SH'\n",
    "sz_index = pro.index_daily(ts_code=sz_code, start_date='20100101', end_date='20211231')\n",
    "print(sz_index.info())\n",
    "print(sz_index.head())\n",
    "sz_index.to_csv('../data/上证指数2010-2021.csv')\n",
    "\n",
    "# 上证50指数\n",
    "sz50_code = '000016.SH'\n",
    "sz50_index = pro.index_daily(ts_code=sz50_code, start_date='20100101', end_date='20211231')\n",
    "print(sz50_index.info())\n",
    "print(sz50_index.head())\n",
    "sz50_index.to_csv('../data/上证50指数2010-2021.csv')"
   ],
   "metadata": {
    "collapsed": false,
    "pycharm": {
     "name": "#%%\n"
    }
   }
  }
 ],
 "metadata": {
  "kernelspec": {
   "name": "python3",
   "language": "python",
   "display_name": "Python 3 (ipykernel)"
  },
  "language_info": {
   "codemirror_mode": {
    "name": "ipython",
    "version": 2
   },
   "file_extension": ".py",
   "mimetype": "text/x-python",
   "name": "python",
   "nbconvert_exporter": "python",
   "pygments_lexer": "ipython2",
   "version": "2.7.6"
  }
 },
 "nbformat": 4,
 "nbformat_minor": 0
}